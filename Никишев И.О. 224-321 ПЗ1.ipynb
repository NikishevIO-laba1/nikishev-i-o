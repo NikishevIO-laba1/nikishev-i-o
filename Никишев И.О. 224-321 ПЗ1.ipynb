{
 "cells": [
  {
   "cell_type": "code",
   "execution_count": 1,
   "metadata": {},
   "outputs": [
    {
     "name": "stdout",
     "output_type": "stream",
     "text": [
      "LCH = [50.6, 53.29387957354953, 272.04310618992196]\n"
     ]
    }
   ],
   "source": [
    "# выбранный цвет - 50.6, -1.9, -53.26 \n",
    "lab = [50.6, -1.9, -53.26]\n",
    "import math\n",
    "# LAB -> LCH\n",
    "lch = [lab[0], (lab[1]**2 + lab[2]**2)**(1/2), -math.atan(lab[2]/lab[1]) * 360/math.tau]\n",
    "if lch[2]<0: lch[2] += 360\n",
    "print(f'LCH = {lch}')\n",
    "#LCH = [50.6, 53.29387957354953, -87.95689381007803]"
   ]
  },
  {
   "cell_type": "code",
   "execution_count": 2,
   "metadata": {},
   "outputs": [
    {
     "name": "stdout",
     "output_type": "stream",
     "text": [
      "sRGB = 54.2762651221654 123.1278214982287 212.82692597990544\n"
     ]
    }
   ],
   "source": [
    "# LCH -> RGB\n",
    "import colormath.color_objects, colormath.color_conversions, colormath.color_diff\n",
    "lch = colormath.color_objects.LCHabColor(*lch)\n",
    "srgb = colormath.color_conversions.convert_color(lch, colormath.color_objects.sRGBColor)\n",
    "print('sRGB =',srgb.rgb_r*256, srgb.rgb_g*256, srgb.rgb_b*256, )\n",
    "#sRGB= 54.27626512216557 123.1278214982287 212.82692597990544"
   ]
  },
  {
   "cell_type": "code",
   "execution_count": 14,
   "metadata": {},
   "outputs": [
    {
     "name": "stdout",
     "output_type": "stream",
     "text": [
      "HSB = 213.94464734353625 0.7449746319819983 0.8313551796090056\n"
     ]
    }
   ],
   "source": [
    "# RGB -> HSB\n",
    "r = srgb.rgb_r\n",
    "g = srgb.rgb_g\n",
    "b = srgb.rgb_b\n",
    "rgbmax = max(r, g, b)\n",
    "rgbmin = min(r, g, b)\n",
    "if rgbmax == rgbmin: h=0\n",
    "elif rgbmax==r: h = 60*((g-b)/(rgbmax - rgbmin))\n",
    "elif rgbmax==g: h = 60*(2 + (b-r)/(rgbmax - rgbmin))\n",
    "elif rgbmax==b: h = 60*(4 + (r-g)/(rgbmax - rgbmin))\n",
    "if h<0: h+=360\n",
    "if rgbmax == 0: s=0\n",
    "else: s= (rgbmax-rgbmin)/rgbmax\n",
    "b=rgbmax\n",
    "hsb = [h, s*100, b*255]\n",
    "print('HSB =', h, s, b)\n",
    "#HSB = 213.94464734353625 0.7449746319819983 0.8313551796090056"
   ]
  },
  {
   "cell_type": "code",
   "execution_count": 4,
   "metadata": {},
   "outputs": [
    {
     "name": "stdout",
     "output_type": "stream",
     "text": [
      "HSI = 217.56714479531732 0.5827374296023052 0.50811329765664\n"
     ]
    }
   ],
   "source": [
    "# RGB -> HSI\n",
    "r = srgb.rgb_r\n",
    "g = srgb.rgb_g\n",
    "b = srgb.rgb_b\n",
    "i=(r+g+b)/3\n",
    "r=r/(r+g+b)\n",
    "g=g/(r+g+b)\n",
    "b=b/(r+g+b)\n",
    "h= math.acos((0.5 * ((r - g) + (r - b))) / (math.sqrt((r - g) * (r - g) + (r - b) * (g - b))))\n",
    "if b>g:\n",
    "    h=2*math.pi - h\n",
    "s= 1-3*min(r, g, b)\n",
    "hsi = [h*180/math.pi, s*100, i*255]\n",
    "print('HSI =', h*180/math.pi, s, i)\n",
    "#HSI = 217.56714479531732 0.5827374296023052 0.50811329765664"
   ]
  },
  {
   "cell_type": "code",
   "execution_count": 5,
   "metadata": {},
   "outputs": [
    {
     "name": "stdout",
     "output_type": "stream",
     "text": [
      "LCH -> LAB = 50.6 1.8999999999999704 -53.26\n"
     ]
    }
   ],
   "source": [
    "# LCH -> LAB\n",
    "lab = colormath.color_conversions.convert_color(lch, colormath.color_objects.LabColor)\n",
    "print('LCH -> LAB =',lab.lab_l, lab.lab_a, lab.lab_b)"
   ]
  },
  {
   "cell_type": "code",
   "execution_count": 15,
   "metadata": {},
   "outputs": [
    {
     "name": "stdout",
     "output_type": "stream",
     "text": [
      "sRGB -> LAB = 51.40044827852192 9.062607425179504 -52.18558593903629\n"
     ]
    }
   ],
   "source": [
    "# sRGB -> LAB\n",
    "lab = colormath.color_conversions.convert_color(srgb, colormath.color_objects.LabColor)\n",
    "print('sRGB -> LAB =',lab.lab_l, lab.lab_a, lab.lab_b)"
   ]
  },
  {
   "cell_type": "code",
   "execution_count": 16,
   "metadata": {},
   "outputs": [
    {
     "name": "stdout",
     "output_type": "stream",
     "text": [
      "HSB -> LAB = 51.40044827852195 9.062607425179447 -52.18558593903624\n"
     ]
    }
   ],
   "source": [
    "# HSB ->LAB\n",
    "hsb = colormath.color_objects.HSVColor(hsb[0],hsb[1]/100,hsb[2]/255)\n",
    "lab = colormath.color_conversions.convert_color(hsb, colormath.color_objects.LabColor)\n",
    "print('HSB -> LAB =',lab.lab_l, lab.lab_a, lab.lab_b)\n",
    "#HSB -> LAB = 51.40044827852195 9.062607425179447 -52.18558593903624"
   ]
  },
  {
   "cell_type": "code",
   "execution_count": 9,
   "metadata": {},
   "outputs": [
    {
     "name": "stdout",
     "output_type": "stream",
     "text": [
      "HSI -> RGB = 54.06424846153194 115.70658901685765 218.93583522894005\n",
      "HSI -> LAB = 49.88056754072717 15.940195858011485 -58.552506242847755\n"
     ]
    }
   ],
   "source": [
    "# HSI -> LAB\n",
    "h, s, i = hsi\n",
    "s/=100\n",
    "i/=255\n",
    "hx = h/60\n",
    "z = 1 - abs(hx%2-1)\n",
    "c=(3*i*s)/(1+z)\n",
    "x=c*z\n",
    "if hx==0: r, g, b = 0,0,0\n",
    "elif 0<=hx<=1: r,g,b=c,x,0\n",
    "elif 1<=hx<=2: r,g,b=x,c,0\n",
    "elif 2<=hx<=3: r,g,b=0,c,x\n",
    "elif 3<=hx<=4: r,g,b=0,x,c\n",
    "elif 4<=hx<=5: r,g,b=x,0,c\n",
    "elif 5<=hx<=6: r,g,b=c,0,x\n",
    "m = i*(1-s)\n",
    "r,g,b = r+m, g+m, b+m\n",
    "print('HSI -> RGB =',r*255,g*255,b*255)\n",
    "#HSI -> RGB = 54.06424846153194 115.70658901685765 218.93583522894005\n",
    "rgb = colormath.color_objects.sRGBColor(r,g,b)\n",
    "lab = colormath.color_conversions.convert_color(rgb, colormath.color_objects.LabColor)\n",
    "print('HSI -> LAB =',lab.lab_l, lab.lab_a, lab.lab_b)\n",
    "#HSI -> LAB = 49.88056754072717 15.940195858011485 -58.552506242847755"
   ]
  },
  {
   "cell_type": "code",
   "execution_count": 17,
   "metadata": {},
   "outputs": [],
   "source": [
    "def e(l1, a1, b1 ,l2, a2,b2):\n",
    "    return ((l1-l2)**2 + (a1-a2)**2 + (b1-b2)**2)**(1/2)\n",
    "\n",
    "def e94(l1, a1, b1 ,l2, a2,b2):\n",
    "    dl = l1-l2\n",
    "    c1=math.sqrt(a1**2 + b1**2)\n",
    "    c2=math.sqrt(a2**2 + b2**2)\n",
    "    dc = c1-c2\n",
    "    dh = math.sqrt((a2-a1)**2 + (b2-b1)**2 - dc**2)\n",
    "    sl=1\n",
    "    kl=1\n",
    "    k1=0.045\n",
    "    k2=0.015\n",
    "    kc=1\n",
    "    kh=1\n",
    "    sc=1+k1*c1\n",
    "    sh = 1+k2*c1\n",
    "    color1= colormath.color_objects.LabColor(l1, a1, b1)\n",
    "    color2= colormath.color_objects.LabColor(l2, a2, b2)\n",
    "    return math.sqrt((dl/(kl*sl))**2 + (dc/(kc*sc))**2 + (dh/(kh*sh))**2), colormath.color_diff.delta_e_cie1994(color1, color2)\n",
    "\n",
    "def e2000(l1, a1, b1 ,l2, a2,b2):\n",
    "    color1= colormath.color_objects.LabColor(l1, a1, b1)\n",
    "    color2= colormath.color_objects.LabColor(l2, a2, b2)\n",
    "    return colormath.color_diff.delta_e_cie2000(color1, color2)"
   ]
  },
  {
   "cell_type": "code",
   "execution_count": 18,
   "metadata": {},
   "outputs": [
    {
     "name": "stdout",
     "output_type": "stream",
     "text": [
      "LAB - LCH - LAB\n",
      "0.0\n",
      "(0.0, 0.0)\n",
      "0.0\n",
      "LAB - RGB - LAB\n",
      "7.327346040688946\n",
      "(4.121484017101069, 4.121484017101069)\n",
      "5.2143144967405455\n",
      "LAB - HSB - LAB\n",
      "7.327346040688946\n",
      "(4.121484017101069, 4.121484017101069)\n",
      "5.2143144967405455\n",
      "LAB - HSI - LAB\n",
      "14.985993460561767\n",
      "(7.585404730500875, 7.585404730500877)\n",
      "7.534567810703763\n"
     ]
    }
   ],
   "source": [
    "print('LAB - LCH - LAB')\n",
    "print(e(50.6, 1.9, -53.3, 50.6, 1.9, -53.3,))\n",
    "print(e94(50.6, 1.9, -53.3, 50.6, 1.9, -53.3,))\n",
    "print(e2000(50.6, 1.9, -53.3, 50.6, 1.9, -53.3,))\n",
    "\n",
    "print('LAB - RGB - LAB')\n",
    "print(e(50.6, 1.9, -53.3, 51.4, 9.1, -52.2,))\n",
    "print(e94(50.6, 1.9, -53.3, 51.4, 9.1, -52.2,))\n",
    "print(e2000(50.6, 1.9, -53.3, 51.4, 9.1, -52.2,))\n",
    "\n",
    "print('LAB - HSB - LAB')\n",
    "print(e(50.6, 1.9, -53.3, 51.4, 9.1, -52.2,))\n",
    "print(e94(50.6, 1.9, -53.3, 51.4, 9.1, -52.2,))\n",
    "print(e2000(50.6, 1.9, -53.3, 51.4, 9.1, -52.2,))\n",
    "\n",
    "print('LAB - HSI - LAB')\n",
    "print(e(50.6, 1.9, -53.3, 49.9, 15.9, -58.6,))\n",
    "print(e94(50.6, 1.9, -53.3, 49.9, 15.9, -58.6,))\n",
    "print(e2000(50.6, 1.9, -53.3, 49.9, 15.9, -58.6,))"
   ]
  }
 ],
 "metadata": {
  "kernelspec": {
   "display_name": "uni",
   "language": "python",
   "name": "python3"
  },
  "language_info": {
   "codemirror_mode": {
    "name": "ipython",
    "version": 3
   },
   "file_extension": ".py",
   "mimetype": "text/x-python",
   "name": "python",
   "nbconvert_exporter": "python",
   "pygments_lexer": "ipython3",
   "version": "3.11.0"
  },
  "orig_nbformat": 4
 },
 "nbformat": 4,
 "nbformat_minor": 2
}
